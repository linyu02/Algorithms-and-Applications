{
 "cells": [
  {
   "cell_type": "markdown",
   "id": "616278bf",
   "metadata": {},
   "source": [
    "# Problem 1\n"
   ]
  },
  {
   "cell_type": "markdown",
   "id": "97042a29",
   "metadata": {},
   "source": [
    "<span style=\"font-size: 20px;\"> (a) </span>\n",
    " \n",
    "i. Prove that the greedy algorithm provides the optimal solution.\n",
    "\n",
    "Let's assume that the greedy algorithm does not provide the optimal solution.\n",
    "\n",
    "Let $a_{1}, a_{2}, \\ldots, a_{k}$ represent the $k$ items chosen by the greedy algorithm, where $\\sum_{i}^{k} W_{a_{i}} \\leq W$.\n",
    "\n",
    "Similarly, let $b_{1}, b_{2}, \\ldots, b_{k^{*}}$ denote the $k^{*}$ items in the optimal solution, ordered according to $(v_{i}/w_{i})$. And $\\sum_{i}^{k^{*}} W_{b_{i}} \\leq W$\n",
    "\n",
    "Since the greedy algorithm does not guarantee the optimal solution, we have $\\sum_{i} V_{a_{i}} \\leq \\sum_{i} V_{b_{i}}$. There exists an index $j$ such that $a_{j} \\neq b_{j}$. \n",
    "\n",
    "Let $j^{*}$ be the index of the first item that differs between the two solutions, then $1 \\leq j^{*} \\leq \\max\\{k^*, k\\}$. \n",
    "\n",
    "Based on the greedy algorithm's design, $j^{*}$ cannot be $1$, as both the optimal solution and the greedy algorithm select the item with the highest $v_{i}/w_{i}$ value among all items not exceeding $W$. Thus, $a_{1}=b_{1}$. Moving to the second item, both solutions similarly choose the item with the highest $v_{i}/w_{i}$ value among items not exceeding $W-w_{1}$. Hence, $j^{*} \\neq 2$. \n",
    "\n",
    "By induction, we can conclude that $j^{*} \\neq 1,2,....,\\max\\{k^*, k\\}$. This leads to a contradiction.\n"
   ]
  },
  {
   "cell_type": "markdown",
   "id": "b3bbe90f",
   "metadata": {},
   "source": [
    "ii. Pseudo Code:\n",
    "\n",
    "\n",
    "\n",
    "```python\n",
    "FractionalKnapsack(W,items):\n",
    "    \n",
    "    // W is the maximum weight capacity of the knapsack\n",
    "    \n",
    "    // items is a list of tuples (value, weight) representing n items the thief finds at the store\n",
    "\n",
    "    // Sort items based on value-to-weight ratio in descending order\n",
    "    Sort items by (value / weight) in descending order\n",
    "\n",
    "    // Initialize variables\n",
    "    total_value = 0\n",
    "    remaining_weight = W\n",
    "\n",
    "    // Iterate through sorted items\n",
    "    for item in items:\n",
    "        if item.weight <= remaining_weight:\n",
    "            // Take the whole item\n",
    "            total_value += item.value\n",
    "            remaining_weight -= item.weight\n",
    "        else:\n",
    "            // Take a fraction of the item\n",
    "            fraction = remaining_weight / item.weight\n",
    "            total_value += item.value * fraction\n",
    "            remaining_weight = 0\n",
    "            break\n",
    "\n",
    "    return total_value\n",
    "\n",
    "\n",
    "\n"
   ]
  },
  {
   "cell_type": "markdown",
   "id": "dc19e9cc",
   "metadata": {},
   "source": [
    "<span style=\"font-size: 20px;\"> (b) </span>\n",
    " \n",
    "i.Dynamic programing solution: \n",
    "\n",
    "As we discussed in class, greedy algorithm by choosing the one with highest value at each iteration would not give us the optimal solution. Thus, we need to use dynamic algorithm.\n"
   ]
  },
  {
   "cell_type": "markdown",
   "id": "71f68bca",
   "metadata": {},
   "source": [
    "ii.Pseudo Code\n",
    "\n",
    "```python\n",
    "knapsack_D(values, weights, W):\n",
    "    \n",
    "    n = length(values)\n",
    "    dp = 2D array of size (n+1) x (W+1)\n",
    "    chosen_items = 2D array of * size (n+1) x (W+1) full with [0]\n",
    "    for w from 0 to W:\n",
    "        dp[0][w] = 0 //initialize as 0 items is selecte for all w\n",
    "\n",
    "    for i from 1 to n:\n",
    "        // at each iteration, we want ith item is in pack when its weight is smaller than W\n",
    "        \n",
    "        for w from 0 to W:\n",
    "            if weights[i-1] <= w:\n",
    "                //check whether the ith item weight is smaller than W or not\n",
    "      \n",
    "                dp[i][w] = max(dp[i-1][w], dp[i-1][w-weights[i-1]] + values[i-1])\n",
    "                // Check we either exclude the ith item or include it in the knapsack, \n",
    "                depending on which option yields a higher total value\n",
    "                \n",
    "                if dp[i][w] == dp[i - 1][w - weights[i - 1]] + values[i - 1]:\n",
    "                    chosen_items[i][w] = 1 \n",
    "                    //record the action of choosing ith item with total weight w\n",
    "                \n",
    "            else:\n",
    "                dp[i][w] = dp[i-1][w] \n",
    "   \n",
    "                \n",
    "    \\\\ to find chosen items            \n",
    "    chosen = []\n",
    "    i, w = n, W\n",
    "    while i > 0 and w > 0:\n",
    "        if chosen_items[i][w]==1:\n",
    "            chosen.append(i - 1)\n",
    "            w -= weights[i - 1]\n",
    "        i -= 1\n",
    "\n",
    "    return dp[n][W], chosen\n",
    "\\\\return the maximum value of items the theif should choose and the index of those items\n",
    "\n"
   ]
  },
  {
   "cell_type": "markdown",
   "id": "4bcc79ad",
   "metadata": {},
   "source": [
    "iii.Complexity: the time complexity of iterating through 2 for loops is O(nW)"
   ]
  },
  {
   "cell_type": "markdown",
   "id": "b97bc4da",
   "metadata": {},
   "source": [
    "# Problem 2"
   ]
  },
  {
   "cell_type": "markdown",
   "id": "429ae526",
   "metadata": {},
   "source": [
    "<span style=\"font-size: 20px;\"> (a) </span>\n"
   ]
  },
  {
   "cell_type": "markdown",
   "id": "502f8e5a",
   "metadata": {},
   "source": [
    "\n",
    "Given an array $A=(A_1, A_2, \\ldots, A_n)$.\n",
    "\n",
    "If there are a total of $l$ inversions, let $l_i$ denote the number of elements smaller than $A_i$ that appear after $A_i$. Then, $\\sum_{i=1}^{n} l_{A_i} = l$.\n",
    "\n",
    "If $A_i$ and $A_{i+1}$ satisfy $A_i < A_{i+1}$, there's no need to swap, so $l_{A_i}$ remains the same.\n",
    "\n",
    "Otherwise, a swap is needed between $A_i$ and $A_{i+1}$, and we need to update $l_{A_i} = l_{A_i} - 1$.\n",
    "\n",
    "We continue this process until $l_{A_i} = 0$ for all $i$. Thus, we need $\\sum_{i=1}^{n} l_{A_i}$ swaps so we can get the identity permutation. \n",
    "\n",
    "Next, we need to prove this is the minimum number of swaps we need. \n",
    "\n",
    "Assume there is another way to obtain the identity permutation with $l^{*}$ swaps.\n",
    "\n",
    "After $l^{*}$ swaps, $l_{A_i} = 0$ for all $i$, and $l = 0$. Exchanging the $A_i$ and $A_{i+1}$ could only lead to increasing $l_{A_i}$ by one or decreasing it by one. Thus, $l_{*} \\geq \\sum_{i=1}^{n} l_{A_i} = l$.\n",
    "\n",
    "Therefore, the minimum number of swaps to sort array $A$ is equal to the number of inversions in array $A$.\n"
   ]
  },
  {
   "cell_type": "markdown",
   "id": "63142ad8",
   "metadata": {},
   "source": [
    "Part b\n",
    "\n",
    "Based on the result of a, we want to compute the number of inversions so we can get the minimum number of swaps. In order to use divide-and-conquer method, we wanna use merge-sort algorithm that we discussed in class.\n"
   ]
  },
  {
   "cell_type": "code",
   "execution_count": 18,
   "id": "e1494228",
   "metadata": {},
   "outputs": [
    {
     "name": "stdout",
     "output_type": "stream",
     "text": [
      "Number of inversions: 2\n"
     ]
    }
   ],
   "source": [
    "def merge_count(arr, left, mid, right):\n",
    "    left_subarray = arr[left:mid + 1]\n",
    "    right_subarray = arr[mid + 1:right + 1]\n",
    "\n",
    "    inversion_count = 0\n",
    "    i = j = 0\n",
    "    k = left\n",
    "\n",
    "    for _ in range(right - left + 1):\n",
    "        if i < len(left_subarray) and j < len(right_subarray):\n",
    "            if left_subarray[i] <= right_subarray[j]:\n",
    "                arr[k] = left_subarray[i]\n",
    "                i += 1\n",
    "            else:\n",
    "                arr[k] = right_subarray[j]\n",
    "                j += 1\n",
    "                inversion_count += (mid - left + 1) - i  # Count inversions\n",
    "            \n",
    "            k += 1\n",
    "              \n",
    "    for _ in range(i, len(left_subarray)):\n",
    "        arr[k] = left_subarray[i]\n",
    "        i += 1\n",
    "        k += 1\n",
    "\n",
    "    for _ in range(j, len(right_subarray)):\n",
    "        arr[k] = right_subarray[j]\n",
    "        j += 1\n",
    "        k += 1\n",
    "    return inversion_count\n",
    "\n",
    "def count_inversions(arr, left, right):\n",
    "    inversion_count = 0\n",
    "    if left < right:\n",
    "        mid = (left + right) // 2\n",
    "\n",
    "        inversion_count += count_inversions(arr, left, mid)\n",
    "        inversion_count += count_inversions(arr, mid + 1, right)\n",
    "        inversion_count += merge_count(arr, left, mid, right)\n",
    "\n",
    "    return inversion_count\n",
    "\n",
    "# Example usage:\n",
    "arr = [1, 3, 2, 5, 4]\n",
    "inversions = count_inversions(arr, 0, len(arr) - 1)\n",
    "print(\"Number of inversions:\", inversions)\n"
   ]
  },
  {
   "cell_type": "code",
   "execution_count": 19,
   "id": "b3e2e1e9",
   "metadata": {},
   "outputs": [
    {
     "name": "stdout",
     "output_type": "stream",
     "text": [
      "[1, 2, 3, 4, 5]\n"
     ]
    }
   ],
   "source": [
    "print(arr)"
   ]
  },
  {
   "cell_type": "markdown",
   "id": "b49e0e58",
   "metadata": {},
   "source": [
    "Estimation of the time complexity of this algorithm: \\(O(nlog n)\\), since the merge sort algorithm's complexity is \\(O(nlog n)\\).\n",
    "\n"
   ]
  }
 ],
 "metadata": {
  "kernelspec": {
   "display_name": "Python 3 (ipykernel)",
   "language": "python",
   "name": "python3"
  },
  "language_info": {
   "codemirror_mode": {
    "name": "ipython",
    "version": 3
   },
   "file_extension": ".py",
   "mimetype": "text/x-python",
   "name": "python",
   "nbconvert_exporter": "python",
   "pygments_lexer": "ipython3",
   "version": "3.9.18"
  }
 },
 "nbformat": 4,
 "nbformat_minor": 5
}
