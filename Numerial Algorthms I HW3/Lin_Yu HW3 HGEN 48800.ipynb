{
 "cells": [
  {
   "cell_type": "markdown",
   "id": "ce95a008",
   "metadata": {},
   "source": [
    "# Question 1\n"
   ]
  },
  {
   "cell_type": "markdown",
   "id": "af361232",
   "metadata": {},
   "source": [
    "Idea: We can consider n professional westlers as n vertices and r pairs of rivalries as edges among the n vertices. Thus, we want all vertices that are related to each other to be different colors(red, blue). And we can use BFS Algorithm to implement this. BFS algorithm has running time O(n+r)."
   ]
  },
  {
   "cell_type": "markdown",
   "id": "57f400f3",
   "metadata": {},
   "source": [
    "Pseudocode \n",
    "\n",
    "Function designation (n: Integer, rivalries: List of Pairs)：\n",
    "\n",
    "    Initialize graph as an empty adjacency list for n nodes\n",
    "    Initialize color as a list of size n with all values set to None (representing uncolored nodes)\n",
    "    Initialize queue as an empty list\n",
    "\n",
    "    \n",
    "    //Construct the graph\n",
    "    For each pair (u, v) in rivalries\n",
    "        Add v to the adjacency list of u\n",
    "        Add u to the adjacency list of v\n",
    "\n",
    "    // Color the graph using BFS\n",
    "    For each node start from 0 to n-1\n",
    "        If color[start] is None // Node has not been visited\n",
    "            Append start to queue // Enqueue starting node\n",
    "            Set color[start] to 0  // Color it Red (0)\n",
    "\n",
    "            While queue is not empty\n",
    "                Set current to the front of queue and remove it from the queue // Dequeue\n",
    "                Set current_color to color[current]\n",
    "                Set next_color to 1 - current_color // Determine alternate color\n",
    "\n",
    "                For each neighbor in adjacency list of current\n",
    "                    If color[neighbor] is None // Neighbor is uncolored\n",
    "                        Set color[neighbor] to next_color // Color the neighbor\n",
    "                        Append neighbor to queue // Enqueue\n",
    "                    Else If color[neighbor] is equal to current_color // Conflict in coloring\n",
    "                        Return False, empty list // Bipartite division is not possible\n",
    "\n",
    "    // If the loop completes without conflicts, prepare team assignments\n",
    "    Initialize blue_team_assignments as a list\n",
    "    Initialize red_team_assignments as a list\n",
    "    For each color_value in color\n",
    "        If color_value is 1\n",
    "            Append \"Blue\" to blue_team_assignments\n",
    "        Else\n",
    "            Append \"Red\" to red_team_assignments\n",
    "\n",
    "    Return True, team_assignments // Return successful bipartite division and assignments\n",
    "\n",
    "End Function\n"
   ]
  },
  {
   "cell_type": "markdown",
   "id": "c709f29e",
   "metadata": {},
   "source": [
    "# Question 2\n"
   ]
  },
  {
   "cell_type": "markdown",
   "id": "baa67558",
   "metadata": {},
   "source": [
    "To count the number of paths from start vertex s to destination, based on what we have learnt in class, DFS algorthm could help us and to avoid counting the same path twice, we add "
   ]
  },
  {
   "cell_type": "code",
   "execution_count": 1,
   "id": "37ff3d37",
   "metadata": {},
   "outputs": [
    {
     "name": "stdout",
     "output_type": "stream",
     "text": [
      "Number of paths from 1 to 5 : 1\n"
     ]
    }
   ],
   "source": [
    "def count_paths(graph, start, end, memo):\n",
    "    # Check if the result for this start is already computed\n",
    "    if start in memo:\n",
    "        return memo[start]\n",
    "    \n",
    "    # Base case: if start is the end, there's exactly one path to itself\n",
    "    if start == end:\n",
    "        return 1\n",
    "    \n",
    "    # Initialize the path count to 0\n",
    "    path_count = 0\n",
    "    \n",
    "    # Visit all neighbors (since it's a DAG, no need to check for cycles)\n",
    "    for neighbor in graph[start]:\n",
    "        path_count += count_paths(graph, neighbor, end, memo)\n",
    "    \n",
    "    # Store the computed number of paths from start to end in the memoization dictionary\n",
    "    memo[start] = path_count \n",
    "    return path_count\n",
    "\n",
    "def count_all_paths(graph, s, d):\n",
    "    # Create a dictionary to store the number of paths from each node to s\n",
    "    memo = {}\n",
    "    # Start the DFS from node u to s\n",
    "    return count_paths(graph, s, d, memo)\n",
    "\n",
    "# Example usage:\n",
    "# Define a graph as an adjacency list\n",
    "graph = {\n",
    "    0: [1, 2 ,5],\n",
    "    1: [3, 4],\n",
    "    2: [3],\n",
    "    3: [4, 5],\n",
    "    4: [],\n",
    "    5: []\n",
    "}\n",
    "\n",
    "# Count paths from vertex 0 to vertex 5\n",
    "u = 1\n",
    "s = 5\n",
    "print(\"Number of paths from\", u, \"to\", s, \":\", count_all_paths(graph, u, s))\n"
   ]
  },
  {
   "cell_type": "markdown",
   "id": "26f7369a",
   "metadata": {},
   "source": [
    "# Question 3"
   ]
  },
  {
   "cell_type": "code",
   "execution_count": 2,
   "id": "4a02f1c4",
   "metadata": {},
   "outputs": [
    {
     "name": "stdout",
     "output_type": "stream",
     "text": [
      "Random DNA sequence:(test) ATACTAACTT\n"
     ]
    }
   ],
   "source": [
    "# Part a\n",
    "\n",
    "import random\n",
    "random.seed(123)\n",
    "\n",
    "def generate_genomo_sequence(length):\n",
    "    # Define the possible characters in the DNA sequence\n",
    "    bases = ['A', 'G', 'T', 'C']\n",
    "    # Generate a random sequence of the specified length\n",
    "    return ''.join(random.choice(bases) for _ in range(length))\n",
    "\n",
    "# Test\n",
    "test_sequence = generate_genomo_sequence(10)\n",
    "print(\"Random DNA sequence:(test)\", test_sequence)\n",
    "\n",
    "# Simulate a genome of length 1000\n",
    "sample_geno=generate_genomo_sequence(1000)"
   ]
  },
  {
   "cell_type": "code",
   "execution_count": 3,
   "id": "b8f3def1",
   "metadata": {},
   "outputs": [],
   "source": [
    "# Part b\n",
    "\n",
    "# Simulate read data\n",
    "def generate_reads(r_length, n_reads, geno):\n",
    "    # Chopping a geno into small reads of length\n",
    "    num = len(geno)\n",
    "    reads = []\n",
    "    if num < r_length:\n",
    "        print(\"Genome length is too short for the specified read length.\")\n",
    "        return []\n",
    "    else:\n",
    "        for _ in range(n_reads):\n",
    "        # Ensure the random start index allows for a full read of r_length\n",
    "            i = random.randint(0, num - r_length)\n",
    "            # slicing to get a substring from geno\n",
    "            new_read = geno[i:i+r_length]\n",
    "            reads.append(new_read)\n",
    "    return reads\n",
    "\n",
    "# Example genome sequence and function call\n",
    "\n",
    "reads = generate_reads(25, 400, sample_geno)\n",
    "#print(\"Generated reads:\", reads)\n"
   ]
  },
  {
   "cell_type": "code",
   "execution_count": 4,
   "id": "de5fef2d",
   "metadata": {},
   "outputs": [
    {
     "name": "stdout",
     "output_type": "stream",
     "text": [
      "Number of nodes: 986\n"
     ]
    }
   ],
   "source": [
    "#Part c\n",
    "from collections import defaultdict\n",
    "\n",
    "def generate_kmers(read,k):\n",
    "    #Return kmers for each read\n",
    "    return [read[i:i+k] for i in range(len(read) - k + 1)]\n",
    "\n",
    "# Construct the De Bruijn graph with k=10\n",
    "def De_bruijn_graph(k,reads,n_reads):\n",
    "    edges = defaultdict(set)\n",
    "    nodes = set()\n",
    "\n",
    "    for i in range(0,n_reads):\n",
    "        read=reads[i] #Access i+1th read\n",
    "        \n",
    "        # Break all reads into k-mers\n",
    "        kmers = generate_kmers(read, k)\n",
    "        \n",
    "        nodes.update(kmers) # add kmers generated from i+1th read to our nodes set\n",
    "        \n",
    "        for j in range(len(kmers) - 1):\n",
    "            edges[kmers[j]].add(kmers[j+1]) # add edge to our graph\n",
    " \n",
    "    return dict(edges), nodes\n",
    "\n",
    "graph, nodes = De_bruijn_graph(10,reads,400)\n",
    "print(\"Number of nodes:\", len(nodes))"
   ]
  },
  {
   "cell_type": "code",
   "execution_count": 5,
   "id": "c35caa87",
   "metadata": {},
   "outputs": [
    {
     "name": "stdout",
     "output_type": "stream",
     "text": [
      "Some Edges in the De Bruijn Graph: [('TAGAACCGCA', {'AGAACCGCAC'})]\n"
     ]
    }
   ],
   "source": [
    "print(\"Some Edges in the De Bruijn Graph:\", list(graph.items())[:1])  \n"
   ]
  },
  {
   "cell_type": "markdown",
   "id": "7d2aac4a",
   "metadata": {},
   "source": [
    "Part D\n",
    "Reference: https://www.geeksforgeeks.org/hierholzers-algorithm-directed-graph/"
   ]
  },
  {
   "cell_type": "code",
   "execution_count": 6,
   "id": "964a7ea8",
   "metadata": {},
   "outputs": [],
   "source": [
    "def find_eulerian_path(adj, nodes):\n",
    "    \"\"\"\n",
    "    This function takes an adjacency list of a directed graph and prints the Eulerian path\n",
    "    or circuit using Hierholzer's algorithm, if it exists.\n",
    "    \"\"\"\n",
    "    nodes = list(nodes)\n",
    "        \n",
    "    # Calculate in-degree and out-degree for each vertex\n",
    "    in_degree = {i: 0 for i in nodes}\n",
    "    out_degree = {i: 0 for i in nodes}\n",
    "    edge_matrix = [[None] * len(nodes) for _ in range(len(nodes))]\n",
    "    \n",
    "    for node in nodes:\n",
    "        for neighbor in adj[node]:\n",
    "            out_degree[node] += 1\n",
    "            in_degree[neighbor] += 1\n",
    "            i = nodes.index(node) # Find the index of the node\n",
    "            j = nodes.index(neighbor) # Find the index of the neighbor node\n",
    "            edge_matrix[i][j] = 1    # If there is an edge, update the corresponding cell to 1\n",
    "            \n",
    "    # List to store the path\n",
    "    path = []\n",
    "    stack = []\n",
    "    \n",
    "    # Start from a vertex with non-zero out-degree\n",
    "    for vertex in nodes:\n",
    "        if out_degree[vertex] != 0 and in_degree[vertex] == 0:\n",
    "            start_vertex = vertex\n",
    "            break\n",
    "    \n",
    "    stack.append(start_vertex)\n",
    "    \n",
    "    # Hierholzer's algorithm to find the Eulerian path\n",
    "    while stack:\n",
    "        vertex = stack[-1]\n",
    "        # Find the index of the current vertex\n",
    "        i = nodes.index(vertex)\n",
    "        # Find the indices of outgoing edges\n",
    "        out_indices = [j for j, val in enumerate(edge_matrix[i]) if val == 1]\n",
    "        if out_indices:\n",
    "            next_vertex = nodes[out_indices[0]]\n",
    "            #print(next_vertex )\n",
    "            # Update edge matrix\n",
    "            edge_matrix[i][out_indices[0]] = 0\n",
    "            # Push next vertex to stack\n",
    "            stack.append(next_vertex)\n",
    "        else:  # If there are no outgoing edges, backtrack\n",
    "            path.append(stack.pop())\n",
    "\n",
    "    \n",
    "\n",
    "    # Check if all edges are visited\n",
    "    for row in edge_matrix:\n",
    "        for edge in row:\n",
    "            if edge != 0 and edge is not None:\n",
    "                print(\"Not all edges are visited\")\n",
    "            break\n",
    "            \n",
    "    print(len(path))\n",
    "                \n",
    "    # Since we've stored the path in reverse, reverse it to display correctly\n",
    "    return path[::-1]\n"
   ]
  },
  {
   "cell_type": "code",
   "execution_count": 7,
   "id": "d4cb05a0",
   "metadata": {},
   "outputs": [
    {
     "name": "stdout",
     "output_type": "stream",
     "text": [
      "Not all edges are visited\n",
      "783\n"
     ]
    }
   ],
   "source": [
    "adj_list = defaultdict(list)\n",
    "for node, neighbors in graph.items():\n",
    "    adj_list[node].extend(neighbors)\n",
    "    for neighbor in neighbors:\n",
    "        adj_list[neighbor] \n",
    "eulerian_path=find_eulerian_path(adj_list,nodes)\n",
    "#print(\"Eulerian Path:\", eulerian_path)"
   ]
  },
  {
   "cell_type": "code",
   "execution_count": 8,
   "id": "3918f724",
   "metadata": {},
   "outputs": [
    {
     "name": "stdout",
     "output_type": "stream",
     "text": [
      "Assembled Sequence: ATGCATCGCGGCCCAAGCGATTTCCAAATAACACACATTCATCTAGCAGTGAACTGTCTGTAGCCAGCATCCTCAGTGTATGTATGGTTCAAGGAGTGATATGGCCCATCTCGGACTAATCTCTTGCTGGCACCTGCTATATTACACTACTGCTCTGCTTAGAACCGCACGTTGACTATCGATTGCTCAACGGATGGTCCGTAACTGACCCAACCTGCGGGGAGGACAACTAAGCTGTATTGATGCGCGCCGCACATGCAGACTACTTTGCAAATAGCGCGCGAGATAAGGCCGCAAGACAGATCGGGCTGAATTCTGAAAAGTGGATCTTGCATTTATATACGTCAGCAGGTCCTGCATAGGTGAGATAATATTGTCATAATTTCGAAAACCTGGCACGGACGAGTCGCTAAACTAGTTTAGTTGCGCACAGGAGACGCCTAGACATAGAGAACCCTGCCAAAGGGTTCTTCGAAGACGCATTCTTTGGATAACTCGAAGCGACGCTTCTTCGGAAGTAGGGCGGGCACGTTCGACCCTACCATCCAAATTTGCTGAGGCGCCATGTTTATGAAGACCCCAGGTGTCCACATCAGTAATGGAACCCCACAATCCTTTATGAACCTAGTTTGTCTGACGGTGCGTGGCCTCCCTCTACCATCGGAGCCTGTGGCACATCGGTGGTCGGCTGGTGATGCAGGTGTAAGATGAGCCGAAGACGGTGCGTCACTCCGGGGTCGGGGGCAATGACCGGCATTTTGGGGAACTCAGCTACTACAGTTGCCTACCTTA\n",
      "lenth of Assembled Sequence is 792\n"
     ]
    }
   ],
   "source": [
    "def assemble_sequence_from_kmers(eulerian_path, k):\n",
    "    # Initialize the sequence with the first kmer\n",
    "    sequence = eulerian_path[0]\n",
    "    # Iterate through the remaining kmers\n",
    "    sequence = eulerian_path[0]\n",
    "    # Iterate through the remaining kmers\n",
    "    for kmer in eulerian_path[1:]:\n",
    "            sequence += kmer[-1]\n",
    "    return sequence\n",
    "\n",
    "\n",
    "# Assemble the sequence from kmers\n",
    "assembled_sequence = assemble_sequence_from_kmers(eulerian_path, 10)\n",
    "print(\"Assembled Sequence:\", assembled_sequence)\n",
    "print(\"lenth of Assembled Sequence is\", len(assembled_sequence))"
   ]
  },
  {
   "cell_type": "markdown",
   "id": "39a21d74",
   "metadata": {},
   "source": [
    "As we can observe, the find_eulerian_path function alone is unable to provide a complete sequence covering the entirety of the sample sequence. Therefore, we are exploring options to enhance our code in order to generate multiple contigs that collectively cover the entire sample sequence."
   ]
  },
  {
   "cell_type": "code",
   "execution_count": 9,
   "id": "6db95ae8",
   "metadata": {},
   "outputs": [],
   "source": [
    "def contig(start_vertex, nodes, edge_matrix):\n",
    "    \"\"\"\n",
    "    This function finds contigs starting from a given vertex in a directed graph.\n",
    "    \"\"\"\n",
    "    # List to store the path\n",
    "    path = []\n",
    "    stack = []\n",
    "    stack.append(start_vertex)\n",
    "    \n",
    "    # Hierholzer's algorithm to find the contigs\n",
    "    while stack:\n",
    "        vertex = stack[-1]\n",
    "        # Find the index of the current vertex\n",
    "        i = nodes.index(vertex)\n",
    "        # Find the indices of outgoing edges\n",
    "        out_indices = [j for j, val in enumerate(edge_matrix[i]) if val == 1]\n",
    "        if out_indices:\n",
    "            next_vertex = nodes[out_indices[0]]\n",
    "            \n",
    "            # Update edge matrix, 0 means visited\n",
    "            edge_matrix[i][out_indices[0]] = 0 \n",
    "            # Push next vertex to stack\n",
    "            stack.append(next_vertex)\n",
    "        else:  # If there are no outgoing edges, backtrack\n",
    "            path.append(stack.pop())\n",
    "    \n",
    "    return path[::-1]\n",
    "\n",
    "\n",
    "def find_all_contigs(adj, nodes, k):\n",
    "    \"\"\"\n",
    "    This function finds all contigs from a given directed graph and k-mer length.\n",
    "    \"\"\"\n",
    "    nodes = list(nodes)\n",
    "        \n",
    "    # Calculate in-degree and out-degree for each vertex\n",
    "    in_degree = {i: 0 for i in nodes}\n",
    "    out_degree = {i: 0 for i in nodes}\n",
    "    edge_matrix = [[None] * len(nodes) for _ in range(len(nodes))]\n",
    "    contigs = []\n",
    "    \n",
    "    for node in nodes:\n",
    "        for neighbor in adj[node]:\n",
    "            out_degree[node] += 1\n",
    "            in_degree[neighbor] += 1\n",
    "            i = nodes.index(node) # Find the index of the node\n",
    "            j = nodes.index(neighbor) # Find the index of the neighbor node\n",
    "            edge_matrix[i][j] = 1    # If there is an edge, update the corresponding cell to 1\n",
    "            \n",
    "    # Start from a vertex with non-zero out-degree\n",
    "    for vertex in nodes:\n",
    "        if out_degree[vertex] != 0 and in_degree[vertex] == 0:\n",
    "            start_vertex = vertex\n",
    "            break   \n",
    "            \n",
    "    path = contig(start_vertex, nodes, edge_matrix)\n",
    "    contigs.append(assemble_sequence_from_kmers(path, k))\n",
    "    # Check if all edges are visited\n",
    "    for i, row in enumerate(edge_matrix):\n",
    "        for j, entry in enumerate(row):\n",
    "            if entry != 0 and entry is not None:\n",
    "                start_vertex = nodes[i]\n",
    "                path = contig(start_vertex, nodes, edge_matrix)\n",
    "                contigs.append(assemble_sequence_from_kmers(path, k))\n",
    "    return contigs\n"
   ]
  },
  {
   "cell_type": "code",
   "execution_count": 10,
   "id": "7690a60f",
   "metadata": {},
   "outputs": [],
   "source": [
    "adj_list = defaultdict(list)\n",
    "for node, neighbors in graph.items():\n",
    "    adj_list[node].extend(neighbors)\n",
    "    for neighbor in neighbors:\n",
    "        adj_list[neighbor] \n",
    "contigs=find_all_contigs(adj_list,nodes,10)\n"
   ]
  },
  {
   "cell_type": "code",
   "execution_count": 11,
   "id": "096517bf",
   "metadata": {
    "scrolled": false
   },
   "outputs": [
    {
     "name": "stdout",
     "output_type": "stream",
     "text": [
      "15\n"
     ]
    }
   ],
   "source": [
    "print(len(contigs))"
   ]
  },
  {
   "cell_type": "markdown",
   "id": "fb484395",
   "metadata": {},
   "source": [
    "Part E"
   ]
  },
  {
   "cell_type": "code",
   "execution_count": 12,
   "id": "3ca935b2",
   "metadata": {},
   "outputs": [
    {
     "name": "stderr",
     "output_type": "stream",
     "text": [
      "/Users/linyu/opt/anaconda3/lib/python3.9/site-packages/Bio/pairwise2.py:278: BiopythonDeprecationWarning: Bio.pairwise2 has been deprecated, and we intend to remove it in a future release of Biopython. As an alternative, please consider using Bio.Align.PairwiseAligner as a replacement, and contact the Biopython developers if you still need the Bio.pairwise2 module.\n",
      "  warnings.warn(\n"
     ]
    }
   ],
   "source": [
    "# Reference: https://biopython.org/docs/1.75/api/Bio.Seq.html\n",
    "\n",
    "from Bio.Seq import Seq\n",
    "from Bio import pairwise2\n",
    "\n",
    "def find_overlap(sequence1, sequence2):\n",
    "    # Create Seq objects from the input sequences\n",
    "    seq1 = Seq(sequence1)\n",
    "    seq2 = Seq(sequence2)\n",
    "    \n",
    "    # Find the alignment between the two sequences\n",
    "    alignments = pairwise2.align.localms(seq1, seq2, 1, -1, -1, -1)\n",
    "\n",
    "    # Extract start and end points of the overlap from the first alignment\n",
    "    alignment = alignments[0]\n",
    "    start = alignment.start\n",
    "    end = alignment.end\n",
    "\n",
    "    return start, end\n"
   ]
  },
  {
   "cell_type": "code",
   "execution_count": 13,
   "id": "62e82a91",
   "metadata": {
    "scrolled": true
   },
   "outputs": [
    {
     "name": "stdout",
     "output_type": "stream",
     "text": [
      "The 1th contig overlaps with the sample genome:\n",
      "Start: 55\n",
      "End: 847\n",
      "The 2th contig overlaps with the sample genome:\n",
      "Start: 959\n",
      "End: 1000\n",
      "The 3th contig overlaps with the sample genome:\n",
      "Start: 37\n",
      "End: 64\n",
      "The 4th contig overlaps with the sample genome:\n",
      "Start: 876\n",
      "End: 969\n",
      "The 5th contig overlaps with the sample genome:\n",
      "Start: 863\n",
      "End: 886\n",
      "The 6th contig overlaps with the sample genome:\n",
      "Start: 12\n",
      "End: 47\n",
      "The 7th contig overlaps with the sample genome:\n",
      "Start: 855\n",
      "End: 873\n",
      "The 8th contig overlaps with the sample genome:\n",
      "Start: 850\n",
      "End: 865\n",
      "The 9th contig overlaps with the sample genome:\n",
      "Start: 844\n",
      "End: 860\n",
      "The 10th contig overlaps with the sample genome:\n",
      "Start: 6\n",
      "End: 22\n",
      "The 11th contig overlaps with the sample genome:\n",
      "Start: 841\n",
      "End: 854\n",
      "The 12th contig overlaps with the sample genome:\n",
      "Start: 839\n",
      "End: 851\n",
      "The 13th contig overlaps with the sample genome:\n",
      "Start: 5\n",
      "End: 16\n",
      "The 14th contig overlaps with the sample genome:\n",
      "Start: 838\n",
      "End: 849\n",
      "The 15th contig overlaps with the sample genome:\n",
      "Start: 4\n",
      "End: 15\n"
     ]
    }
   ],
   "source": [
    "starts=[]\n",
    "ends=[]\n",
    "for i, contig in enumerate(contigs):\n",
    "    start, end = find_overlap(contig, sample_geno)\n",
    "    starts.append(start)\n",
    "    ends.append(end)\n",
    "    print(f\"The {i+1}th contig overlaps with the sample genome:\")\n",
    "    print(\"Start:\", start)\n",
    "    print(\"End:\", end)\n"
   ]
  },
  {
   "cell_type": "code",
   "execution_count": 14,
   "id": "9e6375b3",
   "metadata": {},
   "outputs": [
    {
     "name": "stdout",
     "output_type": "stream",
     "text": [
      "Our contigs cover from 4 to 1000 bps of the sample genome.\n"
     ]
    }
   ],
   "source": [
    "print(\"Our contigs cover from\", min(starts), \"to\", max(ends), \"bps of the sample genome.\")\n"
   ]
  }
 ],
 "metadata": {
  "kernelspec": {
   "display_name": "Python 3 (ipykernel)",
   "language": "python",
   "name": "python3"
  },
  "language_info": {
   "codemirror_mode": {
    "name": "ipython",
    "version": 3
   },
   "file_extension": ".py",
   "mimetype": "text/x-python",
   "name": "python",
   "nbconvert_exporter": "python",
   "pygments_lexer": "ipython3",
   "version": "3.9.18"
  }
 },
 "nbformat": 4,
 "nbformat_minor": 5
}
