{
  "cells": [
    {
      "cell_type": "markdown",
      "metadata": {
        "id": "ZEzNeZxKNgON"
      },
      "source": [
        "# Homework: Implementing Deep Neural Networks in TensorFlow\n",
        "\n",
        "\n",
        "### Goals:\n",
        "- Introduce the basics of `TensorFlow`\n",
        "- Implement the digit classifier using the low level `TensorFlow` API\n",
        "- Test Deep Neural Networks on real datasets and benchmark the results"
      ]
    },
    {
      "cell_type": "markdown",
      "metadata": {
        "id": "RJ1T2HQjNgOV"
      },
      "source": [
        "# Introduction to TensorFlow\n",
        "\n",
        "TensorFlow is a dynamic graph computation engine, that allows automatic differentiation of each node. Tensorflow is the default computational backend of the Keras library. It can also be used directly from Python to build deep learning models.\n",
        "\n",
        "- https://www.tensorflow.org\n",
        "- https://www.tensorflow.org/tutorials/quickstart/advanced\n",
        "\n",
        "TensorFlow builds where nodes may be:\n",
        "- **constant:** constants tensors, such as training data;\n",
        "- **Variables:** any tensor that is meant to be updated when training, such as parameters of the models.\n"
      ]
    },
    {
      "cell_type": "code",
      "execution_count": null,
      "metadata": {
        "id": "5RCfo68asO68"
      },
      "outputs": [],
      "source": [
        "#pip install tensorflow"
      ]
    },
    {
      "cell_type": "code",
      "execution_count": null,
      "metadata": {
        "colab": {
          "base_uri": "https://localhost:8080/"
        },
        "id": "LC8VScHJNgOW",
        "outputId": "002f1651-18ee-4168-f6f0-753d351a0edd"
      },
      "outputs": [
        {
          "output_type": "execute_result",
          "data": {
            "text/plain": [
              "<tf.Tensor: shape=(), dtype=int32, numpy=3>"
            ]
          },
          "metadata": {},
          "execution_count": 95
        }
      ],
      "source": [
        "import tensorflow as tf\n",
        "a = tf.constant(3)\n",
        "a"
      ]
    },
    {
      "cell_type": "code",
      "execution_count": null,
      "metadata": {
        "colab": {
          "base_uri": "https://localhost:8080/"
        },
        "id": "V8Ktl827NgOX",
        "outputId": "6442bb13-4df8-4dbb-8156-ce41beb58985"
      },
      "outputs": [
        {
          "output_type": "execute_result",
          "data": {
            "text/plain": [
              "<tf.Tensor: shape=(), dtype=int32, numpy=5>"
            ]
          },
          "metadata": {},
          "execution_count": 96
        }
      ],
      "source": [
        "c = tf.Variable(0)\n",
        "b = tf.constant(2)\n",
        "c = a + b\n",
        "\n",
        "c"
      ]
    },
    {
      "cell_type": "code",
      "execution_count": null,
      "metadata": {
        "colab": {
          "base_uri": "https://localhost:8080/"
        },
        "id": "Fb5gzXU-NgOY",
        "outputId": "0f599d3b-f9c4-4066-81e4-ad61b0b9b1d4"
      },
      "outputs": [
        {
          "output_type": "execute_result",
          "data": {
            "text/plain": [
              "<tf.Tensor: shape=(2, 2), dtype=float32, numpy=\n",
              "array([[0., 1.],\n",
              "       [2., 3.]], dtype=float32)>"
            ]
          },
          "metadata": {},
          "execution_count": 97
        }
      ],
      "source": [
        "A = tf.constant([[0, 1], [2, 3]], dtype=tf.float32)\n",
        "A"
      ]
    },
    {
      "cell_type": "markdown",
      "metadata": {
        "id": "eU4RmxmiNgOY"
      },
      "source": [
        "A tf.Tensor can be converted to numpy the following way:"
      ]
    },
    {
      "cell_type": "code",
      "execution_count": null,
      "metadata": {
        "colab": {
          "base_uri": "https://localhost:8080/"
        },
        "id": "FRDYsv8gNgOY",
        "outputId": "0bb5945e-e852-4283-d20b-7f23a3d7c801"
      },
      "outputs": [
        {
          "output_type": "execute_result",
          "data": {
            "text/plain": [
              "array([[0., 1.],\n",
              "       [2., 3.]], dtype=float32)"
            ]
          },
          "metadata": {},
          "execution_count": 98
        }
      ],
      "source": [
        "A.numpy()"
      ]
    },
    {
      "cell_type": "code",
      "execution_count": null,
      "metadata": {
        "colab": {
          "base_uri": "https://localhost:8080/"
        },
        "id": "c-448JCVNgOZ",
        "outputId": "dfe0612a-fae5-4f93-c369-4c5292b3d0b6"
      },
      "outputs": [
        {
          "output_type": "execute_result",
          "data": {
            "text/plain": [
              "<tf.Variable 'Variable:0' shape=(2,) dtype=float32, numpy=array([1., 2.], dtype=float32)>"
            ]
          },
          "metadata": {},
          "execution_count": 99
        }
      ],
      "source": [
        "b = tf.Variable([1, 2], dtype=tf.float32)\n",
        "b"
      ]
    },
    {
      "cell_type": "code",
      "execution_count": null,
      "metadata": {
        "colab": {
          "base_uri": "https://localhost:8080/"
        },
        "id": "iS-YADBPNgOZ",
        "outputId": "2810ad4c-4e49-49e3-bb43-bb3aa06e9990"
      },
      "outputs": [
        {
          "output_type": "execute_result",
          "data": {
            "text/plain": [
              "<tf.Tensor: shape=(2, 1), dtype=float32, numpy=\n",
              "array([[1.],\n",
              "       [2.]], dtype=float32)>"
            ]
          },
          "metadata": {},
          "execution_count": 100
        }
      ],
      "source": [
        "tf.reshape(b, (-1, 1))"
      ]
    },
    {
      "cell_type": "code",
      "execution_count": null,
      "metadata": {
        "colab": {
          "base_uri": "https://localhost:8080/"
        },
        "id": "HLCgU6D4NgOZ",
        "outputId": "65ce55bb-315f-43f7-b6bd-3cbbcd0619da"
      },
      "outputs": [
        {
          "output_type": "execute_result",
          "data": {
            "text/plain": [
              "<tf.Tensor: shape=(2, 1), dtype=float32, numpy=\n",
              "array([[2.],\n",
              "       [8.]], dtype=float32)>"
            ]
          },
          "metadata": {},
          "execution_count": 101
        }
      ],
      "source": [
        "tf.matmul(A, tf.reshape(b, (-1, 1)))"
      ]
    },
    {
      "cell_type": "markdown",
      "metadata": {
        "id": "oIZGRZWINgOZ"
      },
      "source": [
        "### Exercise\n",
        "\n",
        "Write a function that computes the squared Euclidean norm of an 1D tensorf input x:\n",
        "\n",
        "- Use element wise arithmetic operations (`+`, `-`, `*`,  `/`, `**`)\n",
        "- Use `tf.reduce_sum` to compute the sum of the element of a Tensor."
      ]
    },
    {
      "cell_type": "code",
      "execution_count": null,
      "metadata": {
        "colab": {
          "base_uri": "https://localhost:8080/"
        },
        "id": "u8HubU6CNgOa",
        "outputId": "a68e0a73-f5dc-4450-efde-0d590e198fad"
      },
      "outputs": [
        {
          "output_type": "execute_result",
          "data": {
            "text/plain": [
              "<tf.Variable 'Variable:0' shape=(2,) dtype=float32, numpy=array([ 1., -4.], dtype=float32)>"
            ]
          },
          "metadata": {},
          "execution_count": 102
        }
      ],
      "source": [
        "x = tf.Variable([1, -4], dtype=tf.float32)\n",
        "x"
      ]
    },
    {
      "cell_type": "code",
      "execution_count": null,
      "metadata": {
        "id": "pw6ba8xANgOa"
      },
      "outputs": [],
      "source": [
        "def squared_norm(x):\n",
        "    return tf.reduce_sum(x ** 2)"
      ]
    },
    {
      "cell_type": "code",
      "execution_count": null,
      "metadata": {
        "id": "w9fb9wzMNgOa"
      },
      "outputs": [],
      "source": [
        "# %load solutions/tf_squared_norm.py"
      ]
    },
    {
      "cell_type": "code",
      "execution_count": null,
      "metadata": {
        "colab": {
          "base_uri": "https://localhost:8080/"
        },
        "id": "29Lc__hiNgOa",
        "outputId": "896b598e-3a2a-453d-cad4-2540a2cb065e"
      },
      "outputs": [
        {
          "output_type": "execute_result",
          "data": {
            "text/plain": [
              "<tf.Tensor: shape=(), dtype=float32, numpy=17.0>"
            ]
          },
          "metadata": {},
          "execution_count": 105
        }
      ],
      "source": [
        "squared_norm(x)"
      ]
    },
    {
      "cell_type": "code",
      "execution_count": null,
      "metadata": {
        "colab": {
          "base_uri": "https://localhost:8080/"
        },
        "id": "86nNsB_CNgOa",
        "outputId": "08996595-a651-432e-e35d-d08529eeb959"
      },
      "outputs": [
        {
          "output_type": "execute_result",
          "data": {
            "text/plain": [
              "17.0"
            ]
          },
          "metadata": {},
          "execution_count": 106
        }
      ],
      "source": [
        "squared_norm(x).numpy()"
      ]
    },
    {
      "cell_type": "markdown",
      "metadata": {
        "id": "NiaVJBjfNgOb"
      },
      "source": [
        "### Autodiff and Gradient Descent"
      ]
    },
    {
      "cell_type": "code",
      "execution_count": null,
      "metadata": {
        "colab": {
          "base_uri": "https://localhost:8080/"
        },
        "id": "G3SGOAXVNgOb",
        "outputId": "c2a0df55-2397-4afa-c628-c9ceeb591ec6"
      },
      "outputs": [
        {
          "output_type": "execute_result",
          "data": {
            "text/plain": [
              "[<tf.Tensor: shape=(2,), dtype=float32, numpy=array([ 2., -8.], dtype=float32)>]"
            ]
          },
          "metadata": {},
          "execution_count": 107
        }
      ],
      "source": [
        "x = tf.Variable([1, -4], dtype=tf.float32)\n",
        "\n",
        "\n",
        "with tf.GradientTape() as tape:\n",
        "    result = squared_norm(x)\n",
        "    #tf.GradientTape for automatic differentiation;\n",
        "    # computing the gradient of a computation with respect to some inputs\n",
        "\n",
        "\n",
        "variables = [x]\n",
        "gradients = tape.gradient(result, variables)\n",
        "gradients"
      ]
    },
    {
      "cell_type": "code",
      "execution_count": null,
      "metadata": {
        "id": "7_K1YF7INgOb"
      },
      "outputs": [],
      "source": [
        "grad_x = gradients[0]"
      ]
    },
    {
      "cell_type": "code",
      "execution_count": null,
      "metadata": {
        "colab": {
          "base_uri": "https://localhost:8080/"
        },
        "id": "cMYcaAk-NgOb",
        "outputId": "08369bb0-5f69-4736-a5c2-c8f5fafd3ba8"
      },
      "outputs": [
        {
          "output_type": "execute_result",
          "data": {
            "text/plain": [
              "<tf.Variable 'Variable:0' shape=(2,) dtype=float32, numpy=array([ 1., -4.], dtype=float32)>"
            ]
          },
          "metadata": {},
          "execution_count": 109
        }
      ],
      "source": [
        "x\n"
      ]
    },
    {
      "cell_type": "markdown",
      "metadata": {
        "id": "_RjwflONNgOb"
      },
      "source": [
        "We can apply a gradient step to modify x in place by taking one step of gradient descent:"
      ]
    },
    {
      "cell_type": "code",
      "execution_count": null,
      "metadata": {
        "colab": {
          "base_uri": "https://localhost:8080/"
        },
        "id": "L4zBQ0bpNgOc",
        "outputId": "e754e3dd-0e14-4643-f2b3-ccdd03d2894c"
      },
      "outputs": [
        {
          "output_type": "execute_result",
          "data": {
            "text/plain": [
              "array([ 0.8, -3.2], dtype=float32)"
            ]
          },
          "metadata": {},
          "execution_count": 110
        }
      ],
      "source": [
        "x.assign_sub(0.1 * grad_x)\n",
        "x.numpy()"
      ]
    },
    {
      "cell_type": "markdown",
      "metadata": {
        "id": "F_q9tESfNgOc"
      },
      "source": [
        "Execute the following gradient descent step many times consecutively to watch the decrease of the objective function and the values of `x` converging to the minimum of the `squared_norm` function.\n",
        "\n",
        "Hit `[ctrl]-[enter]` several times to execute the same Jupyter notebook cell over and over again."
      ]
    },
    {
      "cell_type": "code",
      "execution_count": null,
      "metadata": {
        "colab": {
          "base_uri": "https://localhost:8080/"
        },
        "id": "ygLX8ZAwNgOc",
        "outputId": "9099b67d-d179-4a69-ba15-0ead090cf2d2"
      },
      "outputs": [
        {
          "output_type": "stream",
          "name": "stdout",
          "text": [
            "objective = 1.088000e+01\n",
            "x = [ 0.64 -2.56]\n"
          ]
        }
      ],
      "source": [
        "with tf.GradientTape() as tape:\n",
        "    objective = squared_norm(x)\n",
        "\n",
        "x.assign_sub(0.1 * tape.gradient(objective, [x])[0])\n",
        "\n",
        "print(f\"objective = {objective.numpy():e}\")\n",
        "print(f\"x = {x.numpy()}\")"
      ]
    },
    {
      "cell_type": "markdown",
      "metadata": {
        "id": "v4uSF1QQNgOd"
      },
      "source": [
        "### Device-aware Memory Allocation"
      ]
    },
    {
      "cell_type": "markdown",
      "metadata": {
        "id": "WImb5f3VNgOd"
      },
      "source": [
        "To explicitely place tensors on a device, use context managers:"
      ]
    },
    {
      "cell_type": "code",
      "execution_count": null,
      "metadata": {
        "colab": {
          "base_uri": "https://localhost:8080/",
          "height": 35
        },
        "id": "2WKG5_YkNgOd",
        "outputId": "664bc4ba-589b-4ac8-d7d7-9d8004acbe18"
      },
      "outputs": [
        {
          "output_type": "execute_result",
          "data": {
            "text/plain": [
              "'/job:localhost/replica:0/task:0/device:CPU:0'"
            ],
            "application/vnd.google.colaboratory.intrinsic+json": {
              "type": "string"
            }
          },
          "metadata": {},
          "execution_count": 112
        }
      ],
      "source": [
        "with tf.device(\"CPU:0\"):\n",
        "    x_cpu = tf.constant(3)\n",
        "\n",
        "# with tf.device(\"GPU:0\"):\n",
        "#     x_gpu = tf.constant(3)\n",
        "x_cpu.device"
      ]
    },
    {
      "cell_type": "markdown",
      "metadata": {
        "id": "Ays1S4_vNgOd"
      },
      "source": [
        "## Building a Digits Classifier in TensorFlow\n",
        "\n",
        "### Dataset:\n",
        "- http://scikit-learn.org/stable/modules/generated/sklearn.datasets.load_digits.html#sklearn.datasets.load_digits"
      ]
    },
    {
      "cell_type": "code",
      "execution_count": null,
      "metadata": {
        "colab": {
          "base_uri": "https://localhost:8080/",
          "height": 314
        },
        "id": "7TBvzoymNgOe",
        "outputId": "df826eea-accf-4e08-87bf-cde12ac0522b"
      },
      "outputs": [
        {
          "output_type": "display_data",
          "data": {
            "text/plain": [
              "<Figure size 300x300 with 1 Axes>"
            ],
            "image/png": "[encoded data removed]"
          },
          "metadata": {}
        }
      ],
      "source": [
        "%matplotlib inline\n",
        "import matplotlib.pyplot as plt\n",
        "from sklearn.datasets import load_digits\n",
        "\n",
        "digits = load_digits()\n",
        "\n",
        "sample_index = 45\n",
        "plt.figure(figsize=(3, 3))\n",
        "plt.imshow(digits.images[sample_index], cmap=plt.cm.gray_r,\n",
        "           interpolation='nearest')\n",
        "plt.title(\"image label: %d\" % digits.target[sample_index]);"
      ]
    },
    {
      "cell_type": "markdown",
      "metadata": {
        "id": "5wtOv4WQNgOe"
      },
      "source": [
        "### Preprocessing\n",
        "\n",
        "- Normalization\n",
        "- Train / test split"
      ]
    },
    {
      "cell_type": "code",
      "execution_count": null,
      "metadata": {
        "colab": {
          "base_uri": "https://localhost:8080/"
        },
        "id": "Tvlwg7KSNgOe",
        "outputId": "aff2da4f-44e5-467c-b3cf-00fc5c5685f2"
      },
      "outputs": [
        {
          "output_type": "execute_result",
          "data": {
            "text/plain": [
              "(((1527, 64), (1527,)), ((270, 64), (270,)))"
            ]
          },
          "metadata": {},
          "execution_count": 114
        }
      ],
      "source": [
        "import numpy as np\n",
        "from sklearn import preprocessing\n",
        "from sklearn.model_selection import train_test_split\n",
        "\n",
        "data = np.asarray(digits.data, dtype='float32')\n",
        "target = np.asarray(digits.target, dtype='int32')\n",
        "\n",
        "X_train, X_test, y_train, y_test = train_test_split(\n",
        "    data, target, test_size=0.15, random_state=37)\n",
        "\n",
        "# mean = 0 ; standard deviation = 1.0\n",
        "scaler = preprocessing.StandardScaler()\n",
        "X_train = scaler.fit_transform(X_train)\n",
        "X_test = scaler.transform(X_test)\n",
        "\n",
        "# print(scaler.mean_)\n",
        "# print(scaler.scale_)\n",
        "(X_train.shape, y_train.shape), (X_test.shape, y_test.shape)"
      ]
    },
    {
      "cell_type": "markdown",
      "metadata": {
        "id": "uKEGQiwZNgOf"
      },
      "source": [
        "TensorFlow provides dataset abstraction which makes it is to iterate over the data batch by batch:"
      ]
    },
    {
      "cell_type": "code",
      "execution_count": null,
      "metadata": {
        "id": "Nfu4MMZoNgOf"
      },
      "outputs": [],
      "source": [
        "def gen_dataset(x, y, batch_size=128):\n",
        "    dataset = tf.data.Dataset.from_tensor_slices((x, y))\n",
        "    dataset = dataset.shuffle(buffer_size=10000, seed=42)\n",
        "    dataset = dataset.batch(batch_size=batch_size)\n",
        "    return dataset"
      ]
    },
    {
      "cell_type": "code",
      "execution_count": null,
      "metadata": {
        "colab": {
          "base_uri": "https://localhost:8080/"
        },
        "id": "9WTy59_YNgOg",
        "outputId": "786a2a8f-b1d4-453d-f7c8-65a0b9f2681f"
      },
      "outputs": [
        {
          "output_type": "execute_result",
          "data": {
            "text/plain": [
              "<_BatchDataset element_spec=(TensorSpec(shape=(None, 64), dtype=tf.float32, name=None), TensorSpec(shape=(None,), dtype=tf.int32, name=None))>"
            ]
          },
          "metadata": {},
          "execution_count": 116
        }
      ],
      "source": [
        "dataset = gen_dataset(X_train, y_train)\n",
        "dataset"
      ]
    },
    {
      "cell_type": "code",
      "execution_count": null,
      "metadata": {
        "colab": {
          "base_uri": "https://localhost:8080/"
        },
        "id": "--GrZ6PANgOg",
        "outputId": "64a0a483-0a10-44a2-9cd9-428673b4347b"
      },
      "outputs": [
        {
          "output_type": "execute_result",
          "data": {
            "text/plain": [
              "TensorShape([128, 64])"
            ]
          },
          "metadata": {},
          "execution_count": 117
        }
      ],
      "source": [
        "batch_x, batch_y = next(iter(dataset))\n",
        "batch_x.shape"
      ]
    },
    {
      "cell_type": "code",
      "execution_count": null,
      "metadata": {
        "colab": {
          "base_uri": "https://localhost:8080/"
        },
        "id": "ThCfOhdLNgOg",
        "outputId": "87e1a757-69ef-4169-fa70-39f41412bd01"
      },
      "outputs": [
        {
          "output_type": "execute_result",
          "data": {
            "text/plain": [
              "TensorShape([128])"
            ]
          },
          "metadata": {},
          "execution_count": 118
        }
      ],
      "source": [
        " batch_y.shape"
      ]
    },
    {
      "cell_type": "markdown",
      "metadata": {
        "id": "YtB4E0SvNgOh"
      },
      "source": [
        "### Build a model using TensorFlow\n",
        "\n",
        "- Using TensorFlow, build a similar model (one hidden layer) as you previously did;\n",
        "- The input will be a batch coming from X_train, and the output will be a batch of ints;\n",
        "- The output do not need be normalized as probabilities, the softmax will be moved to the loss function."
      ]
    },
    {
      "cell_type": "code",
      "execution_count": null,
      "metadata": {
        "id": "_6YNCOheNgOh"
      },
      "outputs": [],
      "source": [
        "# helper functions to use to test your randomly initialized model:\n",
        "\n",
        "def init_weights(shape):\n",
        "    return tf.Variable(tf.random.normal(shape, stddev=0.01))\n",
        "\n",
        "\n",
        "def accuracy(y_pred, y):\n",
        "    return np.mean(np.argmax(y_pred, axis=1) == y)\n",
        "\n",
        "\n",
        "def test_model(model, x, y):\n",
        "    dataset = gen_dataset(x, y)\n",
        "    preds, targets = [], []\n",
        "\n",
        "    for batch_x, batch_y in dataset:\n",
        "        preds.append(model(batch_x).numpy())\n",
        "        targets.append(batch_y.numpy())\n",
        "\n",
        "    preds, targets = np.concatenate(preds), np.concatenate(targets)\n",
        "    return accuracy(preds, targets)"
      ]
    },
    {
      "cell_type": "markdown",
      "metadata": {
        "id": "p3qZ7MK6NgOh"
      },
      "source": [
        "Define your model there, and then execute the following cell to train your model.\n",
        "Don't hesitate to tweak the hyperparameters."
      ]
    },
    {
      "cell_type": "code",
      "execution_count": null,
      "metadata": {
        "id": "9qLMkcZ2NgOh"
      },
      "outputs": [],
      "source": [
        "# hyperparams\n",
        "batch_size = 32\n",
        "hid_size = 15\n",
        "learning_rate = 0.5\n",
        "num_epochs = 10\n",
        "input_size = X_train.shape[1]\n",
        "output_size = 10\n",
        "\n",
        "\n",
        "# build the model and weights\n",
        "class MyModel:\n",
        "    def __init__(self, input_size, hid_size, output_size):\n",
        "        # randomly initialize all the internal variables of the model:\n",
        "        self.W_h = init_weights([input_size, hid_size])\n",
        "        self.b_h = init_weights([hid_size])\n",
        "        self.W_o = init_weights([hid_size, output_size])\n",
        "        self.b_o = init_weights([output_size])\n",
        "\n",
        "    def __call__(self, inputs):\n",
        "        # this method should implement the forward pass with\n",
        "        # tensorflow operations: compute the outputs, that is the\n",
        "        # unnormalized predictions of the network for a give batch\n",
        "        # of inputs vectors.\n",
        "        # No need to implement the softmax operations as we will\n",
        "        # move it the loss function instead.\n",
        "\n",
        "        # Hint: you can use tf.matmul, tf.tanh, tf.sigmoid,\n",
        "        # arithmetic operations and so on.\n",
        "        h = tf.nn.sigmoid(tf.matmul(inputs, self.W_h) + self.b_h)\n",
        "        return tf.matmul(h, self.W_o) + self.b_o\n",
        "\n",
        "model = MyModel(input_size, hid_size, output_size)"
      ]
    },
    {
      "cell_type": "code",
      "execution_count": null,
      "metadata": {
        "id": "03S92EN_NgOi",
        "colab": {
          "base_uri": "https://localhost:8080/"
        },
        "outputId": "10595f4a-fb1a-4a4c-fd6d-151233a7e3c2"
      },
      "outputs": [
        {
          "output_type": "execute_result",
          "data": {
            "text/plain": [
              "array([[ 0.00737174, -0.00769683, -0.00192661, -0.0135047 ,  0.01407218,\n",
              "         0.0494116 ,  0.02454551, -0.01039417, -0.00279989, -0.00879737]],\n",
              "      dtype=float32)"
            ]
          },
          "metadata": {},
          "execution_count": 121
        }
      ],
      "source": [
        "# %load solutions/tf_model.py\n",
        "logits = model(X_test[:1])\n",
        "logits.numpy()"
      ]
    },
    {
      "cell_type": "code",
      "source": [
        "y_test[:1]"
      ],
      "metadata": {
        "id": "ln2XUUFIVu-w",
        "colab": {
          "base_uri": "https://localhost:8080/"
        },
        "outputId": "0a17d28c-f055-403e-efe5-11ab91d2e3a4"
      },
      "execution_count": null,
      "outputs": [
        {
          "output_type": "execute_result",
          "data": {
            "text/plain": [
              "array([2], dtype=int32)"
            ]
          },
          "metadata": {},
          "execution_count": 122
        }
      ]
    },
    {
      "cell_type": "code",
      "execution_count": null,
      "metadata": {
        "colab": {
          "base_uri": "https://localhost:8080/"
        },
        "id": "TKVCgBZDNgOi",
        "outputId": "6e19bad6-f57b-4267-8fdb-fcd9e3aa44cf"
      },
      "outputs": [
        {
          "output_type": "execute_result",
          "data": {
            "text/plain": [
              "0.11481481481481481"
            ]
          },
          "metadata": {},
          "execution_count": 123
        }
      ],
      "source": [
        "test_model(model, X_test, y_test)"
      ]
    },
    {
      "cell_type": "markdown",
      "metadata": {
        "id": "AhQhKIueNgOi"
      },
      "source": [
        "The following implements a training loop in Python. Note the use of `tf.GradientTape` to automatically compute the gradients of the loss w.r.t. the different parameters of the model:"
      ]
    },
    {
      "cell_type": "code",
      "execution_count": null,
      "metadata": {
        "colab": {
          "base_uri": "https://localhost:8080/",
          "height": 626
        },
        "id": "D43QeDkUNgOj",
        "outputId": "24388b99-d0a7-4c6b-c16b-a252f1a2dbaa"
      },
      "outputs": [
        {
          "output_type": "stream",
          "name": "stdout",
          "text": [
            "Epoch 0, train_acc = 0.4977, test_acc = 0.4593\n",
            "Epoch 1, train_acc = 0.8003, test_acc = 0.7556\n",
            "Epoch 2, train_acc = 0.8841, test_acc = 0.8815\n",
            "Epoch 3, train_acc = 0.9384, test_acc = 0.937\n",
            "Epoch 4, train_acc = 0.9555, test_acc = 0.9519\n",
            "Epoch 5, train_acc = 0.9679, test_acc = 0.9481\n",
            "Epoch 6, train_acc = 0.9745, test_acc = 0.9519\n",
            "Epoch 7, train_acc = 0.9777, test_acc = 0.9593\n",
            "Epoch 8, train_acc = 0.9823, test_acc = 0.9593\n",
            "Epoch 9, train_acc = 0.9836, test_acc = 0.9593\n"
          ]
        },
        {
          "output_type": "execute_result",
          "data": {
            "text/plain": [
              "[<matplotlib.lines.Line2D at 0x7b966ca80640>]"
            ]
          },
          "metadata": {},
          "execution_count": 124
        },
        {
          "output_type": "display_data",
          "data": {
            "text/plain": [
              "<Figure size 640x480 with 1 Axes>"
            ],
            "image/png": "[encoded data removed]"
          },
          "metadata": {}
        }
      ],
      "source": [
        "losses = []\n",
        "for e in range(num_epochs):\n",
        "    train_dataset = gen_dataset(X_train, y_train, batch_size=batch_size)\n",
        "\n",
        "    for batch_x, batch_y in train_dataset:\n",
        "        # tf.GradientTape records the activation to compute the gradients:\n",
        "        with tf.GradientTape() as tape:\n",
        "            logits = model(batch_x)\n",
        "            loss = tf.reduce_mean(tf.nn.sparse_softmax_cross_entropy_with_logits(batch_y, logits))\n",
        "            losses.append(loss.numpy())\n",
        "\n",
        "        # Here we ask for the gradients of dL/dW_h, etc.\n",
        "        dW_h, db_h, dW_o, db_o = tape.gradient(\n",
        "            loss, [model.W_h, model.b_h, model.W_o, model.b_o])\n",
        "\n",
        "        # Update the weights as a Stochastic Gradient Descent would do:\n",
        "        model.W_h.assign_sub(learning_rate * dW_h)\n",
        "        model.b_h.assign_sub(learning_rate * db_h)\n",
        "        model.W_o.assign_sub(learning_rate * dW_o)\n",
        "        model.b_o.assign_sub(learning_rate * db_o)\n",
        "\n",
        "    train_acc = test_model(model, X_train, y_train)\n",
        "    test_acc = test_model(model, X_test, y_test)\n",
        "    print(\"Epoch {}, train_acc = {}, test_acc = {}\".format(e, round(train_acc, 4), round(test_acc, 4)))\n",
        "\n",
        "plt.plot(losses)"
      ]
    },
    {
      "cell_type": "code",
      "execution_count": null,
      "metadata": {
        "colab": {
          "base_uri": "https://localhost:8080/"
        },
        "id": "9VjCb8uYNgOj",
        "outputId": "18725d51-3805-45a8-f9ee-7474835d8a10"
      },
      "outputs": [
        {
          "output_type": "execute_result",
          "data": {
            "text/plain": [
              "0.9592592592592593"
            ]
          },
          "metadata": {},
          "execution_count": 125
        }
      ],
      "source": [
        "test_model(model, X_test, y_test)"
      ]
    },
    {
      "cell_type": "code",
      "execution_count": null,
      "metadata": {
        "colab": {
          "base_uri": "https://localhost:8080/"
        },
        "id": "EIhhKWvrNgOj",
        "outputId": "e0e78156-2b59-492b-81da-f8f29483921b"
      },
      "outputs": [
        {
          "output_type": "execute_result",
          "data": {
            "text/plain": [
              "0.9836280288146693"
            ]
          },
          "metadata": {},
          "execution_count": 126
        }
      ],
      "source": [
        "test_model(model, X_train, y_train)"
      ]
    },
    {
      "cell_type": "markdown",
      "metadata": {
        "id": "nEFPktgbNgOj"
      },
      "source": [
        "## Now it is your turn for more exercises\n",
        "\n",
        "- add L2 regularization with $\\lambda = 10^{-4}$\n",
        "- train with 3 and 4 layers: only pass the layer sizes as hyperparameter to the model class constructor (`__init__` method)\n",
        "- you may use tensorboard (https://www.tensorflow.org/how_tos/summaries_and_tensorboard/) to monitor loss and display graph\n",
        "- Can you test implemented DL model on a real genomics dataset? Examples may include disease outcome prediction or subtype classification using gene expression data. Define your scientific problem and your analysis goal and evaluate the performance. How does the performance compare with logistic regression, SVM or other methods?  \n",
        "\n",
        "Note: Feel free to modify nonlinear activition functions, loss functions, model architecture and regularization to see if there is any impact on the performance."
      ]
    },
    {
      "cell_type": "code",
      "source": [
        "# Modify MyModel:\n",
        "# Add L2 regularization with lambda=1e-4\n",
        "# Pass the layer sizes as hyperparameter to the model class constructor, so it can train with 3 and 4 layes\n",
        "class MyModel:\n",
        "    def __init__(self, layer_sizes, l2_lambda=1e-4):\n",
        "        self.layers = []  # List to store layers, where each layer consists of weights and biases\n",
        "\n",
        "        # Create layers based on the size list provided\n",
        "        for i in range(len(layer_sizes) - 1):  # Loop through each pair of consecutive layers\n",
        "            # Append a dictionary to `self.layers` where:\n",
        "            # 'W' is a weight matrix initialized with normally distributed random values\n",
        "            # 'b' is a bias vector initialized to zeros\n",
        "            self.layers.append({\n",
        "                'W': tf.Variable(tf.random.normal([layer_sizes[i], layer_sizes[i+1]], stddev=0.01, dtype=tf.float32)),\n",
        "                'b': tf.Variable(tf.zeros([layer_sizes[i+1]], dtype=tf.float32))  # Zero-initialized biases for the layer\n",
        "            })\n",
        "\n",
        "        # Store the L2 regularization strength\n",
        "        self.l2_lambda = l2_lambda\n",
        "\n",
        "    # Callable method to compute the output of the network for given inputs\n",
        "    def __call__(self, inputs):\n",
        "        x = inputs  # Ensure inputs are of type float32 for computation\n",
        "        # Process input through all layers except the last using sigmoid activation function\n",
        "        for layer in self.layers[:-1]:\n",
        "            x = tf.nn.sigmoid(tf.matmul(x, layer['W']) + layer['b'])  # Apply sigmoid activation to the linear transformation\n",
        "        # For the last layer, only perform the linear transformation\n",
        "        x = tf.matmul(x, self.layers[-1]['W']) + self.layers[-1]['b']\n",
        "        return x  # Return the final output of the network\n",
        "\n",
        "    # Method to calculate the L2 loss (regularization term) for the network's weights\n",
        "    def get_l2_loss(self):\n",
        "        l2_loss = 0  # Initialize L2 loss to zero\n",
        "        for layer in self.layers:  # Iterate through each layer\n",
        "            l2_loss += tf.reduce_sum(tf.square(layer['W']))  # Sum the squares of all weight matrices\n",
        "        return self.l2_lambda * l2_loss  # Multiply by lambda and return the L2 loss\n",
        "\n"
      ],
      "metadata": {
        "id": "0Q0kDEoYIm2K"
      },
      "execution_count": null,
      "outputs": []
    },
    {
      "cell_type": "code",
      "source": [
        "##### Test for our new class\n",
        "# Initialize the model with a hypothetical layer configuration\n",
        "model = MyModel(layer_sizes=[10, 20, 5])  # 10 input features, 20 neurons in the hidden layer, 5 output neurons\n",
        "\n",
        "# Generate synthetic data\n",
        "np.random.seed(0)\n",
        "X_test = np.random.normal(size=(100, 10))  # 100 samples, 10 features each\n",
        "\n",
        "# Convert X_test to a TensorFlow tensor\n",
        "X_test_tensor = tf.convert_to_tensor(X_test, dtype=tf.float32)\n",
        "\n",
        "# Use the model to predict\n",
        "outputs = model(X_test_tensor)\n",
        "\n",
        "# Print the outputs and the L2 loss\n",
        "#print(\"Outputs:\", outputs.numpy())  # Convert TensorFlow tensor to numpy array for printing\n",
        "print(\"L2 Loss:\", model.get_l2_loss().numpy())  # Calculate and print the L2 regularization loss"
      ],
      "metadata": {
        "colab": {
          "base_uri": "https://localhost:8080/"
        },
        "id": "yaPFQYqXswCK",
        "outputId": "e98429ad-1f82-4b96-81f4-b62db595ec24"
      },
      "execution_count": null,
      "outputs": [
        {
          "output_type": "stream",
          "name": "stdout",
          "text": [
            "L2 Loss: 3.1652737e-06\n"
          ]
        }
      ]
    },
    {
      "cell_type": "code",
      "source": [
        "# Use tensorboard monitor loss and display graph\n",
        "from tensorflow.summary import create_file_writer\n",
        "\n",
        "logdir = \"./logs\"\n",
        "writer = create_file_writer(logdir)\n",
        "\n",
        "with writer.as_default():\n",
        "    for epoch in range(num_epochs):\n",
        "        # Run training and record loss\n",
        "        tf.summary.scalar('loss', loss, step=epoch)\n"
      ],
      "metadata": {
        "id": "wC0GPRp4JP03"
      },
      "execution_count": null,
      "outputs": []
    },
    {
      "cell_type": "markdown",
      "source": [
        " **Test implemented DL model on a real genomics dataset**\n",
        "\n",
        "\n"
      ],
      "metadata": {
        "id": "W6haC7P1oKRf"
      }
    },
    {
      "cell_type": "code",
      "source": [
        "# Load the data\n",
        "from google.colab import drive\n",
        "import pandas as pd\n",
        "drive.mount('/content/drive')\n",
        "df = pd.read_csv('/content/drive/My Drive//Colab Notebooks/HGEN_HW7/Tabula_heart_exp 2.csv')\n"
      ],
      "metadata": {
        "id": "1wkR657wJat5",
        "colab": {
          "base_uri": "https://localhost:8080/"
        },
        "outputId": "31e63d0d-f4f7-48c5-cc5c-a8390e970b86"
      },
      "execution_count": null,
      "outputs": [
        {
          "output_type": "stream",
          "name": "stdout",
          "text": [
            "Drive already mounted at /content/drive; to attempt to forcibly remount, call drive.mount(\"/content/drive\", force_remount=True).\n"
          ]
        }
      ]
    },
    {
      "cell_type": "code",
      "source": [
        "from sklearn.preprocessing import LabelEncoder\n",
        "# Assume all columns except 'cell_type' are features\n",
        "X = df.drop('cell_type', axis=1).values\n",
        "y = df['cell_type'].values\n",
        "\n",
        "# Encode the categorical target variable\n",
        "label_encoder = LabelEncoder()\n",
        "y_encoded = label_encoder.fit_transform(y)\n",
        "\n",
        "# Split the data into training and testing sets\n",
        "X_train, X_test, y_train, y_test = train_test_split(X, y_encoded, test_size=0.2, random_state=42)"
      ],
      "metadata": {
        "id": "3PUr9-0bsVna"
      },
      "execution_count": null,
      "outputs": []
    },
    {
      "cell_type": "code",
      "source": [
        "(X_train.shape, y_train.shape), (X_test.shape, y_test.shape)"
      ],
      "metadata": {
        "colab": {
          "base_uri": "https://localhost:8080/"
        },
        "id": "0dcvGqovuGQz",
        "outputId": "7f4b1fab-8f79-4105-8e73-1e0de5ccc649"
      },
      "execution_count": null,
      "outputs": [
        {
          "output_type": "execute_result",
          "data": {
            "text/plain": [
              "(((9204, 2436), (9204,)), ((2301, 2436), (2301,)))"
            ]
          },
          "metadata": {},
          "execution_count": 132
        }
      ]
    },
    {
      "cell_type": "code",
      "source": [
        "X_train.shape[1]"
      ],
      "metadata": {
        "colab": {
          "base_uri": "https://localhost:8080/"
        },
        "id": "_2F9H0LOt5LP",
        "outputId": "11de2271-04ca-4702-d097-56f97e06ef84"
      },
      "execution_count": null,
      "outputs": [
        {
          "output_type": "execute_result",
          "data": {
            "text/plain": [
              "2436"
            ]
          },
          "metadata": {},
          "execution_count": 133
        }
      ]
    },
    {
      "cell_type": "code",
      "source": [
        "# Test again for our new MyModel\n",
        "X_train_tensor=tf.convert_to_tensor(X_train, dtype=tf.float32)\n",
        "New_Model=MyModel([X_train.shape[1], 64, 6])\n",
        "# Use the model to predict\n",
        "outputs = New_Model(X_train_tensor)\n",
        "\n",
        "# Print the outputs and the L2 loss\n",
        "#print(\"Outputs:\", outputs.numpy())  # Convert TensorFlow tensor to numpy array for printing\n",
        "print(\"L2 Loss:\", model.get_l2_loss().numpy())  # Calculate and print the L2 regularization lossModel(X_train)"
      ],
      "metadata": {
        "colab": {
          "base_uri": "https://localhost:8080/"
        },
        "id": "EJ17yQMPrezA",
        "outputId": "d7c8e691-369e-4dc6-976f-9ab202e68d75"
      },
      "execution_count": null,
      "outputs": [
        {
          "output_type": "stream",
          "name": "stdout",
          "text": [
            "L2 Loss: 3.1652737e-06\n"
          ]
        }
      ]
    },
    {
      "cell_type": "code",
      "source": [
        "def gen_dataset(x, y, batch_size=128):\n",
        "    \"\"\" Generate batches of data from x and y arrays. \"\"\"\n",
        "    dataset = tf.data.Dataset.from_tensor_slices((x, y))\n",
        "    dataset = dataset.batch(batch_size)\n",
        "    return dataset\n",
        "\n",
        "def closest_class(logits, classes):\n",
        "    \"\"\" Map each logit to the closest class. \"\"\"\n",
        "    # Expand logits and classes to enable broadcasting\n",
        "    logits = tf.expand_dims(logits, -1)  # Expand logits shape for broadcasting\n",
        "    classes = tf.constant(classes, dtype=logits.dtype)  # Ensure same dtype\n",
        "    # Calculate the absolute differences\n",
        "    differences = tf.abs(logits - classes)\n",
        "    # Find the index of the minimum difference for each logit\n",
        "    closest_indices = tf.argmin(differences, axis=-1)\n",
        "    # Map indices to classes\n",
        "    return tf.gather(classes, closest_indices)\n",
        "\n",
        "def test_model(model, x, y):\n",
        "    dataset = gen_dataset(x, y)\n",
        "    preds, targets = [], []\n",
        "\n",
        "    for batch_x, batch_y in dataset:\n",
        "        # Ensure batch_x is of the correct dtype if the model expects float64, change dtype to tf.float64\n",
        "        batch_x = tf.cast(batch_x, dtype=tf.float32)\n",
        "        logits = model(batch_x)\n",
        "        # Since logits are used directly in np.argmax, ensure logits are a numpy array of the right type\n",
        "        logits = logits.numpy()  # Ensures conversion to numpy array if not already\n",
        "        y_pred = np.argmax(logits, axis=1)  # Finds the index of the maximum logit which represents the class\n",
        "        predicted_classes = closest_class(y_pred, [0, 1, 2, 3, 4, 5])\n",
        "        preds.extend(predicted_classes.numpy().flatten())\n",
        "        targets.extend(batch_y.numpy().flatten())\n",
        "\n",
        "    # Calculate accuracy\n",
        "    accuracy = np.mean(np.array(preds) == np.array(targets))\n",
        "    return accuracy\n",
        "\n"
      ],
      "metadata": {
        "id": "VHXYKeJ0E7ae"
      },
      "execution_count": null,
      "outputs": []
    },
    {
      "cell_type": "code",
      "source": [
        "train_acc = test_model(New_Model, X_train, y_train)\n",
        "train_acc"
      ],
      "metadata": {
        "colab": {
          "base_uri": "https://localhost:8080/"
        },
        "id": "9jgVyRRCaFQa",
        "outputId": "931df54c-e17f-47da-9602-0e3ccd94460c"
      },
      "execution_count": null,
      "outputs": [
        {
          "output_type": "execute_result",
          "data": {
            "text/plain": [
              "0.022381573229030855"
            ]
          },
          "metadata": {},
          "execution_count": 136
        }
      ]
    },
    {
      "cell_type": "code",
      "source": [
        "import tensorflow as tf\n",
        "import numpy as np\n",
        "import matplotlib.pyplot as plt\n",
        "\n",
        "def train(model, X_train, y_train, X_test, y_test, epochs, batch_size):\n",
        "    optimizer = tf.optimizers.Adam()  # Optimizer for updating the weights\n",
        "    epoch_losses = []  # List to store average losses for each epoch\n",
        "\n",
        "    for epoch in range(epochs):\n",
        "        losses = []  # List to store losses for each batch within an epoch\n",
        "        total_loss_this_epoch = 0\n",
        "        for i in range(0, X_train.shape[0], batch_size):\n",
        "            with tf.GradientTape() as tape:\n",
        "                inputs = tf.convert_to_tensor(X_train[i:i + batch_size], dtype=tf.float32)\n",
        "                labels = tf.convert_to_tensor(y_train[i:i + batch_size], dtype=tf.float32)\n",
        "\n",
        "                # One-hot encode the labels if needed (uncomment if your problem is multi-class classification)\n",
        "                # labels = tf.one_hot(labels, depth=6)  # Adjust depth according to your number of classes\n",
        "\n",
        "                logits = model(inputs)  # Get the model output for the inputs\n",
        "\n",
        "                # Ensure logits and labels have the same shape\n",
        "                if logits.shape[-1] == 1:\n",
        "                    labels = tf.expand_dims(labels, axis=-1)\n",
        "                else:\n",
        "                    labels = tf.one_hot(tf.cast(labels, tf.int32), depth=logits.shape[-1])\n",
        "\n",
        "                # Calculate the data loss using sigmoid cross-entropy\n",
        "                data_loss = tf.reduce_mean(tf.nn.sigmoid_cross_entropy_with_logits(labels=labels, logits=logits))\n",
        "                reg_loss = model.get_l2_loss()  # Regularization loss from the model\n",
        "                total_loss = data_loss + reg_loss  # Total loss includes both data and regularization loss\n",
        "                total_loss_this_epoch += total_loss\n",
        "\n",
        "            # Calculate gradients of total loss with respect to model parameters\n",
        "            gradients = tape.gradient(total_loss, [var for layer in model.layers for var in [layer['W'], layer['b']]])\n",
        "            # Apply gradients to update model parameters\n",
        "            optimizer.apply_gradients(zip(gradients, [var for layer in model.layers for var in [layer['W'], layer['b']]]))\n",
        "\n",
        "        losses.append(total_loss_this_epoch.numpy())  # Append the total loss of the current epoch to the losses list\n",
        "\n",
        "        # Logging the average loss every epoch\n",
        "        print(f\"Epoch {epoch}, Loss: {total_loss_this_epoch.numpy()}\")  # Print total loss of the epoch\n",
        "        train_acc = test_model(model, X_train, y_train)\n",
        "        test_acc = test_model(model, X_test, y_test)\n",
        "        print(\"Train_acc = {}, Test_acc = {}\".format(round(train_acc, 4), round(test_acc, 4)))\n",
        "\n",
        "        epoch_losses.append(total_loss_this_epoch.numpy())  # Store the total loss of the epoch\n",
        "\n",
        "    # Plot the losses after training\n",
        "    plt.plot(epoch_losses)\n",
        "    plt.xlabel('Epoch')\n",
        "    plt.ylabel('Loss')\n",
        "    plt.title('Training Loss Over Epochs')\n",
        "    plt.show()\n",
        "\n",
        "\n",
        "# Example usage:\n",
        "# Assuming New_Model is defined and compiled correctly\n",
        "# Assuming X_train, X_test, y_train, y_test are defined\n",
        "train(New_Model, X_train, y_train, X_test, y_test, 20, 128)\n"
      ],
      "metadata": {
        "colab": {
          "base_uri": "https://localhost:8080/",
          "height": 1000
        },
        "id": "1PwWv2PRo7rW",
        "outputId": "01040b0b-f991-40f0-d726-f5c1e6b6bd26"
      },
      "execution_count": null,
      "outputs": [
        {
          "output_type": "stream",
          "name": "stdout",
          "text": [
            "Epoch 0, Loss: 28.1090145111084\n",
            "Train_acc = 0.6269, Test_acc = 0.6236\n",
            "Epoch 1, Loss: 14.864154815673828\n",
            "Train_acc = 0.856, Test_acc = 0.8588\n",
            "Epoch 2, Loss: 10.781656265258789\n",
            "Train_acc = 0.8558, Test_acc = 0.8583\n",
            "Epoch 3, Loss: 8.75383472442627\n",
            "Train_acc = 0.9198, Test_acc = 0.9266\n",
            "Epoch 4, Loss: 7.324617862701416\n",
            "Train_acc = 0.9326, Test_acc = 0.9435\n",
            "Epoch 5, Loss: 6.386359691619873\n",
            "Train_acc = 0.9333, Test_acc = 0.9435\n",
            "Epoch 6, Loss: 5.703063488006592\n",
            "Train_acc = 0.9359, Test_acc = 0.9444\n",
            "Epoch 7, Loss: 5.163925647735596\n",
            "Train_acc = 0.9343, Test_acc = 0.9439\n",
            "Epoch 8, Loss: 4.684501647949219\n",
            "Train_acc = 0.9349, Test_acc = 0.9452\n",
            "Epoch 9, Loss: 4.369673252105713\n",
            "Train_acc = 0.9393, Test_acc = 0.9474\n",
            "Epoch 10, Loss: 4.180036544799805\n",
            "Train_acc = 0.9374, Test_acc = 0.9461\n",
            "Epoch 11, Loss: 3.929189682006836\n",
            "Train_acc = 0.9661, Test_acc = 0.97\n",
            "Epoch 12, Loss: 3.68708872795105\n",
            "Train_acc = 0.9757, Test_acc = 0.9809\n",
            "Epoch 13, Loss: 3.620755434036255\n",
            "Train_acc = 0.9773, Test_acc = 0.9809\n",
            "Epoch 14, Loss: 3.5464797019958496\n",
            "Train_acc = 0.9682, Test_acc = 0.9683\n",
            "Epoch 15, Loss: 3.3581504821777344\n",
            "Train_acc = 0.9657, Test_acc = 0.9704\n",
            "Epoch 16, Loss: 3.302844762802124\n",
            "Train_acc = 0.9637, Test_acc = 0.9661\n",
            "Epoch 17, Loss: 3.327347755432129\n",
            "Train_acc = 0.9786, Test_acc = 0.9757\n",
            "Epoch 18, Loss: 3.1493752002716064\n",
            "Train_acc = 0.9855, Test_acc = 0.9839\n",
            "Epoch 19, Loss: 3.0225138664245605\n",
            "Train_acc = 0.9849, Test_acc = 0.9848\n"
          ]
        },
        {
          "output_type": "display_data",
          "data": {
            "text/plain": [
              "<Figure size 640x480 with 1 Axes>"
            ],
            "image/png": "[encoded data removed]"
          },
          "metadata": {}
        }
      ]
    },
    {
      "cell_type": "code",
      "source": [
        "len(losses)"
      ],
      "metadata": {
        "colab": {
          "base_uri": "https://localhost:8080/"
        },
        "id": "beq5pu7XCvRO",
        "outputId": "a1a86d40-4c62-4b32-bf63-2f253418f819"
      },
      "execution_count": null,
      "outputs": [
        {
          "output_type": "execute_result",
          "data": {
            "text/plain": [
              "480"
            ]
          },
          "metadata": {},
          "execution_count": 138
        }
      ]
    },
    {
      "cell_type": "code",
      "source": [
        "# Assume y_encoded is a NumPy array\n",
        "unique_values = np.unique(y_encoded)\n",
        "num_unique_values = len(unique_values)\n",
        "\n",
        "print(\"Number of unique values:\", num_unique_values)\n",
        "print(unique_values)\n",
        "\n"
      ],
      "metadata": {
        "colab": {
          "base_uri": "https://localhost:8080/"
        },
        "id": "qS5SKnPo0nYv",
        "outputId": "d1a73a7d-869e-4d8b-d977-9fd07e934b4e"
      },
      "execution_count": null,
      "outputs": [
        {
          "output_type": "stream",
          "name": "stdout",
          "text": [
            "Number of unique values: 6\n",
            "[0 1 2 3 4 5]\n"
          ]
        }
      ]
    },
    {
      "cell_type": "code",
      "source": [
        "train_acc = test_model(New_Model, X_train, y_train)"
      ],
      "metadata": {
        "id": "3lRfaVvk1QHF"
      },
      "execution_count": null,
      "outputs": []
    },
    {
      "cell_type": "code",
      "source": [
        "train_acc"
      ],
      "metadata": {
        "colab": {
          "base_uri": "https://localhost:8080/"
        },
        "id": "NimITasVEtSr",
        "outputId": "4c8acdab-82a0-453b-af6e-280ae4f54c89"
      },
      "execution_count": null,
      "outputs": [
        {
          "output_type": "execute_result",
          "data": {
            "text/plain": [
              "0.9848978704910908"
            ]
          },
          "metadata": {},
          "execution_count": 141
        }
      ]
    },
    {
      "cell_type": "code",
      "source": [
        "test_acc = test_model(New_Model, X_test, y_test)\n",
        "test_acc"
      ],
      "metadata": {
        "id": "Wk4keXnASrlM",
        "colab": {
          "base_uri": "https://localhost:8080/"
        },
        "outputId": "8d83c3d9-83a4-4b71-ac8f-977ec3c0f9b9"
      },
      "execution_count": null,
      "outputs": [
        {
          "output_type": "execute_result",
          "data": {
            "text/plain": [
              "0.9847892220773576"
            ]
          },
          "metadata": {},
          "execution_count": 142
        }
      ]
    },
    {
      "cell_type": "code",
      "source": [
        "from sklearn.model_selection import train_test_split\n",
        "from sklearn.linear_model import LogisticRegression\n",
        "from sklearn.metrics import classification_report, confusion_matrix, accuracy_score\n",
        "from sklearn.preprocessing import StandardScaler\n",
        "# Standardize the data (zero mean, unit variance)\n",
        "scaler = StandardScaler()\n",
        "X_train = scaler.fit_transform(X_train)\n",
        "X_test = scaler.transform(X_test)\n",
        "\n",
        "# Initialize the Logistic Regression model\n",
        "log_reg = LogisticRegression(max_iter=10000)\n",
        "\n",
        "# Train the model\n",
        "log_reg.fit(X_train, y_train)\n",
        "\n",
        "# Make predictions\n",
        "y_pred_log = log_reg.predict(X_test)\n",
        "\n",
        "# Evaluate the model\n",
        "accuracy = accuracy_score(y_test, y_pred_log)\n",
        "print(\"Accuracy:\", accuracy)\n",
        "print(\"Confusion Matrix:\\n\", confusion_matrix(y_test, y_pred_log))\n",
        "print(\"Classification Report:\\n\", classification_report(y_test, y_pred_log))"
      ],
      "metadata": {
        "colab": {
          "base_uri": "https://localhost:8080/"
        },
        "id": "Jt2NqSjkEuCH",
        "outputId": "7e008f6a-436c-44c5-a7d4-2a64687f91de"
      },
      "execution_count": null,
      "outputs": [
        {
          "output_type": "stream",
          "name": "stdout",
          "text": [
            "Accuracy: 0.9826162538026945\n",
            "Confusion Matrix:\n",
            " [[ 543    0    0    0    0    1]\n",
            " [   0 1425    0   10    0    0]\n",
            " [   1    0   43    0    0    0]\n",
            " [   4   19    0  200    0    0]\n",
            " [   1    1    0    2    7    0]\n",
            " [   1    0    0    0    0   43]]\n",
            "Classification Report:\n",
            "               precision    recall  f1-score   support\n",
            "\n",
            "           0       0.99      1.00      0.99       544\n",
            "           1       0.99      0.99      0.99      1435\n",
            "           2       1.00      0.98      0.99        44\n",
            "           3       0.94      0.90      0.92       223\n",
            "           4       1.00      0.64      0.78        11\n",
            "           5       0.98      0.98      0.98        44\n",
            "\n",
            "    accuracy                           0.98      2301\n",
            "   macro avg       0.98      0.91      0.94      2301\n",
            "weighted avg       0.98      0.98      0.98      2301\n",
            "\n"
          ]
        }
      ]
    },
    {
      "cell_type": "markdown",
      "source": [],
      "metadata": {
        "id": "8fAafdjHvFTk"
      }
    },
    {
      "cell_type": "markdown",
      "source": [
        "As observed from the output of both the deep learning algorithm and the logistic regression model, we achieved a similar accuracy rate of approximately 0.98 on the test sets. This indicates that both approaches are highly effective for this classification task."
      ],
      "metadata": {
        "id": "vX0g1eDAqGZ9"
      }
    }
  ],
  "metadata": {
    "colab": {
      "provenance": []
    },
    "kernelspec": {
      "display_name": "Python 3 (ipykernel)",
      "language": "python",
      "name": "python3"
    },
    "language_info": {
      "codemirror_mode": {
        "name": "ipython",
        "version": 3
      },
      "file_extension": ".py",
      "mimetype": "text/x-python",
      "name": "python",
      "nbconvert_exporter": "python",
      "pygments_lexer": "ipython3",
      "version": "3.9.18"
    }
  },
  "nbformat": 4,
  "nbformat_minor": 0
}